{
 "cells": [
  {
   "cell_type": "code",
   "execution_count": 350,
   "metadata": {},
   "outputs": [],
   "source": [
    "import matplotlib.pyplot as plt\n",
    "import torch\n",
    "from torch.utils.data import DataLoader\n",
    "from torchvision.datasets import MNIST\n",
    "from torchvision import transforms\n",
    "import numpy as np\n",
    "from layers import Linear, Sigmoid, NLLLoss, NeuralNetwork # Results from Seminar 1\n",
    "from matplotlib.pyplot import figure\n",
    "from PIL import Image\n",
    "\n",
    "%matplotlib inline"
   ]
  },
  {
   "cell_type": "code",
   "execution_count": 311,
   "metadata": {},
   "outputs": [
    {
     "data": {
      "text/plain": [
       "-0.0031697223543654565"
      ]
     },
     "execution_count": 311,
     "metadata": {},
     "output_type": "execute_result"
    }
   ],
   "source": [
    "np.mean(np.random.normal(size=10000))"
   ]
  },
  {
   "cell_type": "code",
   "execution_count": 422,
   "metadata": {},
   "outputs": [],
   "source": [
    "class AddNoise(object):\n",
    "    def __init__(self, mean=0., std=0.2):\n",
    "        self.std = std\n",
    "        self.mean = mean\n",
    "        \n",
    "    def __call__(self, tensor):\n",
    "        tensor += torch.from_numpy(self.mean + self.std*\n",
    "                                   np.random.normal(size=tensor.numpy().shape))\n",
    "        return tensor\n",
    "    \n",
    "    def __repr__(self):\n",
    "        return self.__class__.__name__ + '(mean={0}, std={1})'.format(self.mean, self.std)"
   ]
  },
  {
   "cell_type": "code",
   "execution_count": 423,
   "metadata": {},
   "outputs": [],
   "source": [
    "transform = transforms.Compose([\n",
    "                       transforms.ToTensor(),\n",
    "                       transforms.Normalize((0.1307,), (0.3081,)), \n",
    "                       AddNoise() \n",
    "                    ])\n",
    "train_dataset = MNIST('.', train=True, download=True, transform=transform)\n",
    "test_dataset = MNIST('.', train=False, transform=transform)\n",
    "\n",
    "train_loader = DataLoader(train_dataset, batch_size=32, shuffle=True)\n",
    "test_loader_full = DataLoader(test_dataset, len(test_dataset), shuffle=True)\n",
    "train_loader_full = DataLoader(train_dataset, batch_size=len(train_dataset), shuffle=True)"
   ]
  },
  {
   "cell_type": "code",
   "execution_count": 424,
   "metadata": {},
   "outputs": [],
   "source": [
    "im = 0\n",
    "minimums = []\n",
    "for X, y in train_loader:\n",
    "    X = X.numpy()\n",
    "    y = y.numpy()\n",
    "    im = X[0]\n",
    "    break"
   ]
  },
  {
   "cell_type": "code",
   "execution_count": 425,
   "metadata": {},
   "outputs": [],
   "source": [
    "minimums.sort()"
   ]
  },
  {
   "cell_type": "code",
   "execution_count": 426,
   "metadata": {},
   "outputs": [
    {
     "data": {
      "text/plain": [
       "[]"
      ]
     },
     "execution_count": 426,
     "metadata": {},
     "output_type": "execute_result"
    }
   ],
   "source": [
    "minimums[:10]"
   ]
  },
  {
   "cell_type": "code",
   "execution_count": 427,
   "metadata": {},
   "outputs": [
    {
     "data": {
      "text/plain": [
       "-0.04817597"
      ]
     },
     "execution_count": 427,
     "metadata": {},
     "output_type": "execute_result"
    }
   ],
   "source": [
    "np.mean(im)"
   ]
  },
  {
   "cell_type": "code",
   "execution_count": 428,
   "metadata": {},
   "outputs": [
    {
     "name": "stdout",
     "output_type": "stream",
     "text": [
      "-1.0741152 3.15558\n"
     ]
    }
   ],
   "source": [
    "print(np.min(im), np.max(im))"
   ]
  },
  {
   "cell_type": "code",
   "execution_count": 429,
   "metadata": {},
   "outputs": [
    {
     "data": {
      "text/plain": [
       "array([[[-2.56385535e-01, -6.35112643e-01, -1.07411516e+00,\n",
       "         -5.24928331e-01, -5.26791632e-01, -3.51095498e-01,\n",
       "         -5.07170916e-01, -3.16836804e-01, -4.55547810e-01,\n",
       "         -4.98199373e-01, -2.06483066e-01, -5.58935881e-01,\n",
       "         -6.66975737e-01, -6.26139939e-02, -7.11073697e-01,\n",
       "         -6.23150945e-01, -2.42673799e-01, -5.78622699e-01,\n",
       "         -7.05358565e-01, -2.25984216e-01, -6.57803953e-01,\n",
       "         -1.02727927e-01, -8.32710445e-01, -4.27038699e-01,\n",
       "         -4.19409454e-01, -3.11972648e-01, -4.85410362e-01,\n",
       "         -5.47648311e-01],\n",
       "        [-4.27760005e-01, -6.44733429e-01,  5.93879959e-03,\n",
       "         -2.00664014e-01, -2.53513634e-01, -1.25479847e-01,\n",
       "         -4.67431813e-01, -4.71303672e-01, -1.97309211e-01,\n",
       "         -7.11934149e-01, -2.78776824e-01, -4.18309234e-02,\n",
       "         -3.14005435e-01, -7.39737988e-01, -4.92191732e-01,\n",
       "         -3.67624193e-01, -3.60943854e-01, -6.34436250e-01,\n",
       "         -7.88504630e-02, -4.34456974e-01, -2.71907806e-01,\n",
       "         -3.95530909e-01, -3.85026425e-01, -4.28229898e-01,\n",
       "         -4.86775368e-01, -3.06908458e-01, -1.14504568e-01,\n",
       "         -2.94991016e-01],\n",
       "        [-6.40752614e-01, -5.09020030e-01, -4.81142223e-01,\n",
       "         -4.48691726e-01, -4.50154722e-01, -3.04242641e-01,\n",
       "          1.02135971e-01, -5.29685378e-01, -4.40368652e-01,\n",
       "         -2.43346080e-01, -4.03660387e-01, -3.78504008e-01,\n",
       "         -1.01029202e-01, -6.07203722e-01, -4.44079995e-01,\n",
       "         -4.73749846e-01, -5.60065091e-01, -3.48304838e-01,\n",
       "         -3.50996315e-01, -5.30502379e-01, -9.09164667e-01,\n",
       "         -2.51339793e-01, -1.27382472e-01, -3.11049402e-01,\n",
       "          2.53860038e-02, -5.71360648e-01, -4.49085683e-01,\n",
       "         -6.37254536e-01],\n",
       "        [-2.91105837e-01, -4.84539121e-01, -4.70332325e-01,\n",
       "         -7.27582201e-02, -3.61039609e-01, -8.61495256e-01,\n",
       "         -5.53084850e-01, -4.04512376e-01, -2.54576892e-01,\n",
       "         -5.23331881e-01, -4.87114429e-01,  1.23599462e-01,\n",
       "         -4.65239197e-01, -1.21944174e-01, -5.20696580e-01,\n",
       "         -4.32997078e-01, -4.60046649e-01, -5.86803198e-01,\n",
       "         -7.83615708e-02, -2.35514566e-01, -3.49114180e-01,\n",
       "         -4.99574244e-01, -4.98714924e-01, -2.17810512e-01,\n",
       "         -1.29200622e-01, -4.51297134e-01, -4.66926455e-01,\n",
       "         -3.46797049e-01],\n",
       "        [-4.33927923e-01, -1.17381506e-01, -1.90980569e-01,\n",
       "         -5.32298863e-01, -4.75127429e-01, -5.41394532e-01,\n",
       "         -1.28630176e-01, -5.02352893e-01, -3.17007810e-01,\n",
       "         -1.33465722e-01, -4.34800684e-01, -3.20284754e-01,\n",
       "          8.59494805e-01,  1.42666638e+00,  2.58562136e+00,\n",
       "          3.02778554e+00,  1.24150097e+00, -5.19690573e-01,\n",
       "         -6.95027232e-01, -5.29753506e-01, -9.04940143e-02,\n",
       "         -6.54606640e-01, -8.00648630e-01, -4.79573518e-01,\n",
       "         -3.53865236e-01, -2.03005046e-01, -3.61132622e-01,\n",
       "         -3.86836529e-01],\n",
       "        [-4.27838922e-01, -6.91796467e-02, -4.82049763e-01,\n",
       "         -2.44370773e-01, -5.44978440e-01, -5.71750045e-01,\n",
       "         -1.95918474e-02, -4.69873607e-01, -5.59480667e-01,\n",
       "         -3.43456656e-01,  4.10218745e-01,  2.45780873e+00,\n",
       "          2.51770234e+00,  2.74190402e+00,  3.06895304e+00,\n",
       "          2.99018574e+00,  2.91800952e+00,  1.17684972e+00,\n",
       "         -3.61836106e-01, -2.36332700e-01, -6.83617473e-01,\n",
       "         -2.96847701e-01, -7.58837223e-01, -2.96525866e-01,\n",
       "         -1.15084022e-01, -3.90336484e-01, -4.88244414e-01,\n",
       "         -4.66346234e-01],\n",
       "        [-4.57238257e-01, -5.29834211e-01, -1.98327541e-01,\n",
       "         -4.90960538e-01, -3.72834861e-01, -9.17164162e-02,\n",
       "         -2.48478308e-01, -5.38096905e-01, -5.26406884e-01,\n",
       "          4.72060472e-01,  2.32972050e+00,  2.84503460e+00,\n",
       "          2.54339290e+00,  2.03798199e+00,  2.18720508e+00,\n",
       "          2.90038157e+00,  2.88617229e+00,  2.88560414e+00,\n",
       "          4.37290519e-01, -2.89010972e-01, -3.78375262e-01,\n",
       "         -2.03641117e-01, -5.54497421e-01, -5.26827633e-01,\n",
       "         -4.77197677e-01, -5.19912660e-01, -2.18332559e-01,\n",
       "         -3.57323647e-01],\n",
       "        [-7.47860968e-01, -4.66815114e-01, -5.96607447e-01,\n",
       "         -2.40964040e-01, -6.17121518e-01, -4.05008078e-01,\n",
       "         -2.12799326e-01, -1.97183222e-01, -7.00173736e-01,\n",
       "          2.01151514e+00,  2.76871705e+00,  2.49739885e+00,\n",
       "         -4.05980617e-01, -4.10951823e-01, -4.29152966e-01,\n",
       "         -4.74455915e-02,  2.05869150e+00,  2.89560461e+00,\n",
       "          7.96952009e-01, -2.82952636e-01, -4.68803763e-01,\n",
       "         -2.95966923e-01, -3.78644556e-01, -3.73394489e-01,\n",
       "         -3.72710019e-01, -4.22818929e-01, -5.82275808e-01,\n",
       "         -4.11055237e-01],\n",
       "        [-6.01693630e-01, -5.32224596e-01, -7.76254356e-01,\n",
       "         -3.31739448e-02, -7.43900239e-01, -7.11526215e-01,\n",
       "         -2.47761011e-01, -5.81960797e-01, -5.70354998e-01,\n",
       "          2.89207363e+00,  2.96252370e+00,  9.06107724e-01,\n",
       "         -2.46727124e-01, -6.63701713e-01, -2.95617819e-01,\n",
       "         -5.67702830e-01,  1.88041472e+00,  2.57173085e+00,\n",
       "          1.78692496e+00, -6.80085838e-01, -6.45164013e-01,\n",
       "         -1.13061294e-01, -4.48816031e-01, -5.71975708e-01,\n",
       "         -6.90408587e-01, -5.62321663e-01, -3.89879704e-01,\n",
       "         -3.50147396e-01],\n",
       "        [-4.43893969e-01, -1.77210167e-01, -5.13701320e-01,\n",
       "         -5.41415751e-01, -4.54624712e-01, -6.83842421e-01,\n",
       "         -3.29835951e-01, -3.58483076e-01, -7.04032183e-01,\n",
       "          1.96165824e+00,  1.78528690e+00, -4.67026681e-01,\n",
       "         -4.91253376e-01, -4.58910704e-01, -4.37695116e-01,\n",
       "          2.27809757e-01,  2.60022616e+00,  2.87890315e+00,\n",
       "          9.61001217e-01, -7.49750495e-01, -1.90333202e-01,\n",
       "         -1.77887663e-01, -5.57582736e-01, -5.83313406e-01,\n",
       "         -1.52520582e-01, -9.14358974e-01, -5.13058186e-01,\n",
       "         -7.77208924e-01],\n",
       "        [-3.47739607e-01, -3.22288156e-01, -2.00349793e-01,\n",
       "         -9.39756572e-01, -3.34155411e-01, -4.38119352e-01,\n",
       "         -5.28948724e-01, -5.13166428e-01, -4.01206076e-01,\n",
       "         -5.79874337e-01, -5.86830676e-01, -6.60465419e-01,\n",
       "         -4.09135252e-01, -5.85051656e-01, -8.57134342e-01,\n",
       "          7.91023910e-01,  2.83077025e+00,  2.55589080e+00,\n",
       "          2.81874508e-01, -4.30715770e-01, -4.10193175e-01,\n",
       "         -2.90865123e-01, -6.76593363e-01, -2.89149880e-01,\n",
       "         -7.68588543e-01, -5.05451679e-01, -5.27030051e-01,\n",
       "         -4.68074620e-01],\n",
       "        [-5.14645755e-01, -2.90164113e-01, -4.99908030e-02,\n",
       "         -3.74125034e-01, -5.17306924e-01, -3.71244043e-01,\n",
       "         -7.09606588e-01, -3.44307691e-01, -5.78560591e-01,\n",
       "         -4.84909207e-01, -4.76816982e-01, -3.35328192e-01,\n",
       "         -5.22471964e-01, -5.11981666e-01, -4.08696905e-02,\n",
       "          2.14172721e+00,  2.63187766e+00,  1.93946266e+00,\n",
       "         -4.90678251e-01, -2.93115795e-01, -5.95312297e-01,\n",
       "         -9.15429518e-02, -2.27285072e-01, -7.20548570e-01,\n",
       "         -7.39930630e-01, -3.92881900e-01, -9.72040653e-01,\n",
       "         -3.32488537e-01],\n",
       "        [-3.39744389e-01, -3.75066400e-01, -2.95571446e-01,\n",
       "         -6.07596934e-01, -4.39874232e-01, -3.11253160e-01,\n",
       "         -3.98116112e-01, -4.26219702e-01, -4.34017539e-01,\n",
       "         -5.46653569e-01, -6.14240050e-01, -6.02859855e-01,\n",
       "         -3.88258547e-01, -6.88245058e-01,  1.59654844e+00,\n",
       "          2.83563519e+00,  2.09794021e+00, -9.44366083e-02,\n",
       "         -5.71218073e-01, -6.12190247e-01, -3.48562032e-01,\n",
       "         -4.40821469e-01, -1.32970020e-01, -3.75420660e-01,\n",
       "         -4.41920012e-01, -7.54911840e-01, -2.29668468e-01,\n",
       "         -5.70003927e-01],\n",
       "        [-1.59329668e-01, -4.18662190e-01, -7.44979143e-01,\n",
       "         -3.68501306e-01, -5.79050303e-01, -2.53725827e-01,\n",
       "         -6.17689252e-01, -5.21873474e-01, -3.85752141e-01,\n",
       "         -2.40820512e-01, -4.09172475e-01, -4.01464611e-01,\n",
       "         -6.95675969e-01, -2.60186046e-02,  2.16490531e+00,\n",
       "          2.69065094e+00,  1.24201417e-01, -1.18921325e-01,\n",
       "         -6.38899863e-01, -2.29416177e-01, -2.59459287e-01,\n",
       "         -8.02631915e-01, -4.14851606e-01, -5.77621520e-01,\n",
       "         -1.46822929e-01, -4.08521146e-01, -4.42374229e-01,\n",
       "         -7.84037709e-01],\n",
       "        [-3.80531073e-01, -1.03729784e+00, -4.37403709e-01,\n",
       "         -4.96687710e-01, -3.36449265e-01, -6.34130001e-01,\n",
       "         -4.76686537e-01, -1.70189515e-01, -3.13405931e-01,\n",
       "         -3.09640408e-01, -5.18491566e-01, -3.88894111e-01,\n",
       "         -1.78465664e-01,  1.68608415e+00,  2.95548844e+00,\n",
       "          2.14925694e+00, -1.81154385e-01, -4.48391706e-01,\n",
       "         -6.34785950e-01, -3.44292432e-01, -5.83501399e-01,\n",
       "         -2.44534224e-01, -7.19985068e-01, -4.59217787e-01,\n",
       "         -6.87505722e-01, -1.52633160e-01, -2.04538316e-01,\n",
       "         -4.16332453e-01],\n",
       "        [-4.47126269e-01, -3.25337708e-01, -3.05191129e-01,\n",
       "         -3.02357618e-02, -6.39890209e-02, -3.82219970e-01,\n",
       "         -8.23001862e-01, -4.26568806e-01, -2.04796970e-01,\n",
       "         -4.63644385e-01, -1.80410489e-01, -4.96204197e-01,\n",
       "          1.18017063e-01,  2.40063572e+00,  3.15558004e+00,\n",
       "          4.82295781e-01, -2.70345241e-01, -1.13296971e-01,\n",
       "         -1.39305353e-01, -3.05865049e-01, -3.18030834e-01,\n",
       "         -4.16729152e-01, -5.77050507e-01, -3.64810973e-01,\n",
       "         -5.94104469e-01, -4.34394687e-01, -1.70578554e-01,\n",
       "         -2.70585060e-01],\n",
       "        [-4.40791845e-01, -7.01646924e-01, -6.43802106e-01,\n",
       "         -5.27694643e-01, -3.49174440e-01, -4.36333835e-01,\n",
       "         -3.02312493e-01, -3.46613020e-01,  1.45952989e-04,\n",
       "         -3.64086986e-01, -2.72077799e-01, -6.09951854e-01,\n",
       "          2.43818665e+00,  2.40644240e+00,  1.15713453e+00,\n",
       "         -4.39713687e-01, -4.53894496e-01, -3.40910703e-01,\n",
       "         -3.72995704e-01, -6.15963697e-01, -5.87269902e-01,\n",
       "         -3.21837872e-01, -2.23211199e-01, -3.66333812e-01,\n",
       "         -6.76003277e-01, -3.71251017e-01, -3.27483833e-01,\n",
       "         -2.87272990e-01],\n",
       "        [-3.05201024e-01, -4.78576005e-01, -5.64438522e-01,\n",
       "         -2.56914049e-01, -1.08311392e-01, -3.99753034e-01,\n",
       "         -2.66881108e-01, -3.58585030e-01, -4.97088581e-01,\n",
       "         -4.40511554e-01, -3.99847090e-01,  8.58980417e-01,\n",
       "          2.86949968e+00,  1.68032992e+00, -2.53995985e-01,\n",
       "         -4.05479193e-01, -4.43369538e-01, -5.12862265e-01,\n",
       "         -1.87784836e-01,  2.86921710e-02, -5.58693767e-01,\n",
       "         -5.32692373e-01, -2.79919386e-01, -6.50727510e-01,\n",
       "         -5.57244956e-01, -3.28260988e-01, -4.59233701e-01,\n",
       "         -4.45294201e-01],\n",
       "        [-6.70469522e-01, -6.78736269e-01, -6.87838674e-01,\n",
       "         -3.36785316e-01, -3.74236584e-01, -5.21773636e-01,\n",
       "         -1.94096193e-01, -4.54505950e-01, -4.16576326e-01,\n",
       "         -7.04112351e-01,  2.92815827e-02,  2.29374409e+00,\n",
       "          2.82884550e+00,  5.44481158e-01, -4.25820529e-01,\n",
       "         -4.14765030e-01, -6.42669797e-01, -5.49029708e-01,\n",
       "         -6.46575332e-01, -2.53676802e-01,  1.46400630e-01,\n",
       "          1.12403059e+00,  6.33438826e-01, -2.57226706e-01,\n",
       "         -2.43673593e-01, -5.07670581e-01, -4.02666628e-01,\n",
       "         -2.83687383e-01],\n",
       "        [-4.25910771e-01, -3.80790979e-01, -3.97264540e-01,\n",
       "         -6.12735510e-01, -2.44749591e-01, -3.99648488e-01,\n",
       "         -6.65879071e-01, -3.51451099e-01, -6.41834140e-01,\n",
       "         -8.12532485e-01,  1.52753210e+00,  2.52902508e+00,\n",
       "          2.15414691e+00, -8.43880117e-01, -6.92446947e-01,\n",
       "         -3.70226532e-01,  2.85319030e-01,  6.21047392e-02,\n",
       "          1.73978281e+00,  2.06045938e+00,  2.48033595e+00,\n",
       "          2.49534416e+00,  1.30936074e+00, -5.76908529e-01,\n",
       "         -2.04895690e-01, -2.52454877e-01, -3.90629947e-01,\n",
       "         -5.24353802e-01],\n",
       "        [-4.38306451e-01, -3.58063728e-01, -2.17666462e-01,\n",
       "         -4.65867102e-01, -2.00543791e-01, -5.92689216e-01,\n",
       "         -3.26504648e-01, -3.05353254e-01, -2.64082819e-01,\n",
       "          6.67743742e-01,  2.56185770e+00,  2.57019258e+00,\n",
       "          2.84041911e-01,  6.38929784e-01,  9.06320870e-01,\n",
       "          1.63562989e+00,  2.78140616e+00,  2.90352011e+00,\n",
       "          3.09804392e+00,  2.55216622e+00,  2.63072729e+00,\n",
       "          2.60178566e+00,  1.10127664e+00, -4.16231334e-01,\n",
       "         -2.04135105e-01, -5.49971998e-01, -2.87164658e-01,\n",
       "         -3.67917299e-01],\n",
       "        [-2.46580645e-01, -2.56499827e-01, -4.78738159e-01,\n",
       "         -2.28198230e-01, -4.26130891e-01, -5.26214242e-02,\n",
       "         -5.49974442e-01, -3.42595279e-01, -4.93841022e-01,\n",
       "          1.80952656e+00,  2.77189064e+00,  2.64010048e+00,\n",
       "          2.56705618e+00,  2.75692630e+00,  3.08250117e+00,\n",
       "          2.63162374e+00,  2.75512481e+00,  2.76686072e+00,\n",
       "          2.98854804e+00,  2.67049289e+00,  1.18506861e+00,\n",
       "         -9.59616676e-02, -4.71362948e-01, -1.66106001e-01,\n",
       "         -4.65503663e-01, -5.43738246e-01, -2.25127727e-01,\n",
       "         -6.56397879e-01],\n",
       "        [-2.84546196e-01, -3.15313190e-01, -3.46520722e-01,\n",
       "         -3.32937449e-01, -2.57552296e-01, -2.26607606e-01,\n",
       "         -3.96464795e-01,  3.80018763e-02, -1.93141162e-01,\n",
       "          1.98436832e+00,  3.09814692e+00,  2.89873552e+00,\n",
       "          2.72349310e+00,  2.53220463e+00,  2.80247498e+00,\n",
       "          2.19488311e+00,  3.62406194e-01,  7.88140297e-01,\n",
       "          2.37128690e-01, -6.38054430e-01, -4.09246951e-01,\n",
       "         -3.39415342e-01, -8.09061766e-01, -6.16918087e-01,\n",
       "         -7.39225388e-01, -4.28232193e-01, -5.63755631e-01,\n",
       "         -5.61772525e-01],\n",
       "        [-3.87772053e-01, -3.99072558e-01, -3.52723181e-01,\n",
       "         -5.31228304e-01, -9.04273987e-01, -5.61726570e-01,\n",
       "         -2.96351522e-01, -3.34953874e-01, -2.32006758e-01,\n",
       "          7.68053293e-01,  1.75592899e+00,  1.76586759e+00,\n",
       "          1.67928708e+00,  7.16853917e-01,  1.22024752e-02,\n",
       "         -3.86097074e-01, -2.25700244e-01, -2.48946831e-01,\n",
       "         -4.68203396e-01, -4.31923211e-01, -7.09810972e-01,\n",
       "         -3.07211339e-01, -5.19904852e-01, -6.14345670e-01,\n",
       "         -3.83410752e-01, -5.41866422e-01, -3.99767548e-01,\n",
       "         -3.94625157e-01],\n",
       "        [-5.15112042e-01, -2.50448436e-01, -4.34390157e-01,\n",
       "         -5.22700012e-01, -3.36017400e-01, -8.38997543e-01,\n",
       "         -3.98961425e-01, -1.39897689e-01, -5.55033326e-01,\n",
       "         -6.09439552e-01, -6.83127522e-01, -3.29536706e-01,\n",
       "         -8.55511069e-01, -3.74131709e-01, -6.13448739e-01,\n",
       "         -4.89193171e-01, -5.48221767e-01, -2.00888872e-01,\n",
       "         -6.84996784e-01, -5.09649873e-01, -1.92533746e-01,\n",
       "         -2.69185096e-01, -5.64413846e-01, -4.97023582e-01,\n",
       "         -7.18356133e-01, -5.58337033e-01, -4.24477041e-01,\n",
       "         -4.20807958e-01],\n",
       "        [-5.17113209e-01, -6.10672653e-01, -4.32993948e-01,\n",
       "         -5.10094106e-01, -8.88993502e-01, -7.78271317e-01,\n",
       "         -3.56013447e-01, -3.47920954e-01, -3.96661699e-01,\n",
       "         -2.03113809e-01, -7.49782801e-01, -4.06833678e-01,\n",
       "         -2.31809869e-01, -5.07492959e-01, -5.45180559e-01,\n",
       "         -4.59258616e-01, -8.01438570e-01, -4.85120893e-01,\n",
       "         -1.96056053e-01, -4.49401766e-01, -6.00234509e-01,\n",
       "         -5.17352104e-01, -3.31369281e-01, -4.52730000e-01,\n",
       "         -7.64746606e-01, -3.48813891e-01, -5.72862744e-01,\n",
       "         -7.01036811e-01],\n",
       "        [-4.64194804e-01, -3.45932156e-01, -2.42019132e-01,\n",
       "         -4.43992227e-01, -2.76128739e-01, -2.29919121e-01,\n",
       "         -5.64630032e-01, -9.35954571e-01, -3.59081268e-01,\n",
       "         -3.25679094e-01, -5.04488468e-01, -5.61784804e-02,\n",
       "         -1.89415455e-01, -5.64325273e-01, -5.54817021e-01,\n",
       "         -1.95529729e-01, -7.31508791e-01, -7.56685972e-01,\n",
       "         -5.13699889e-01, -3.43129963e-01, -4.75748628e-01,\n",
       "         -3.59935492e-01, -5.15788913e-01, -1.00983091e-01,\n",
       "         -4.27185148e-01, -3.73647630e-01, -5.12519598e-01,\n",
       "         -3.93712997e-01],\n",
       "        [-4.16614056e-01, -3.98809463e-01, -2.81405419e-01,\n",
       "         -4.36144531e-01, -8.03838596e-02, -3.82471293e-01,\n",
       "         -2.72755563e-01, -2.44750753e-01, -4.85225081e-01,\n",
       "         -4.62722540e-01, -1.97972909e-01, -2.93534905e-01,\n",
       "         -2.74571329e-01, -5.78222573e-01, -2.25142315e-01,\n",
       "         -4.71522868e-01, -6.92311376e-02, -3.89279157e-01,\n",
       "         -6.47190273e-01, -4.34239686e-01, -2.47537330e-01,\n",
       "         -8.27843189e-01, -1.58589885e-01, -3.68710607e-01,\n",
       "         -6.82694077e-01, -6.57608271e-01, -2.67778486e-01,\n",
       "         -6.72728062e-01]]], dtype=float32)"
      ]
     },
     "execution_count": 429,
     "metadata": {},
     "output_type": "execute_result"
    }
   ],
   "source": [
    "im"
   ]
  },
  {
   "cell_type": "code",
   "execution_count": 430,
   "metadata": {},
   "outputs": [
    {
     "data": {
      "text/plain": [
       "<matplotlib.image.AxesImage at 0x7f604b5635c0>"
      ]
     },
     "execution_count": 430,
     "metadata": {},
     "output_type": "execute_result"
    },
    {
     "data": {
      "image/png": "[encoded data removed]",
      "text/plain": [
       "<Figure size 432x288 with 1 Axes>"
      ]
     },
     "metadata": {
      "needs_background": "light"
     },
     "output_type": "display_data"
    }
   ],
   "source": [
    "plt.imshow(im.reshape(28, 28), cmap=plt.cm.Greys_r)"
   ]
  },
  {
   "cell_type": "code",
   "execution_count": null,
   "metadata": {},
   "outputs": [],
   "source": []
  },
  {
   "cell_type": "code",
   "execution_count": null,
   "metadata": {},
   "outputs": [],
   "source": []
  }
 ],
 "metadata": {
  "kernelspec": {
   "display_name": "Python 3",
   "language": "python",
   "name": "python3"
  },
  "language_info": {
   "codemirror_mode": {
    "name": "ipython",
    "version": 3
   },
   "file_extension": ".py",
   "mimetype": "text/x-python",
   "name": "python",
   "nbconvert_exporter": "python",
   "pygments_lexer": "ipython3",
   "version": "3.6.9"
  }
 },
 "nbformat": 4,
 "nbformat_minor": 2
}
